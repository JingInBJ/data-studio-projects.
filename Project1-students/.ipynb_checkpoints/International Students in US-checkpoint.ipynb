{
 "cells": [
  {
   "cell_type": "code",
   "execution_count": 3,
   "metadata": {},
   "outputs": [],
   "source": [
    "import pandas as pd\n",
    "\n",
    "%matplotlib inline\n",
    "\n",
    "import matplotlib.pyplot as plt\n",
    "\n",
    "import seaborn as sns"
   ]
  },
  {
   "cell_type": "code",
   "execution_count": 4,
   "metadata": {},
   "outputs": [
    {
     "data": {
      "text/html": [
       "<div>\n",
       "<style scoped>\n",
       "    .dataframe tbody tr th:only-of-type {\n",
       "        vertical-align: middle;\n",
       "    }\n",
       "\n",
       "    .dataframe tbody tr th {\n",
       "        vertical-align: top;\n",
       "    }\n",
       "\n",
       "    .dataframe thead th {\n",
       "        text-align: right;\n",
       "    }\n",
       "</style>\n",
       "<table border=\"1\" class=\"dataframe\">\n",
       "  <thead>\n",
       "    <tr style=\"text-align: right;\">\n",
       "      <th></th>\n",
       "      <th>Year</th>\n",
       "      <th>Undergraduate</th>\n",
       "      <th>Graduate</th>\n",
       "      <th>Non-Degree</th>\n",
       "    </tr>\n",
       "  </thead>\n",
       "  <tbody>\n",
       "    <tr>\n",
       "      <th>0</th>\n",
       "      <td>2007/08</td>\n",
       "      <td>68,195</td>\n",
       "      <td>78,489</td>\n",
       "      <td>26,437</td>\n",
       "    </tr>\n",
       "    <tr>\n",
       "      <th>1</th>\n",
       "      <td>2008/09</td>\n",
       "      <td>82,136</td>\n",
       "      <td>84,828</td>\n",
       "      <td>33,496</td>\n",
       "    </tr>\n",
       "    <tr>\n",
       "      <th>2</th>\n",
       "      <td>2009/10</td>\n",
       "      <td>79,365</td>\n",
       "      <td>84,613</td>\n",
       "      <td>38,992</td>\n",
       "    </tr>\n",
       "    <tr>\n",
       "      <th>3</th>\n",
       "      <td>2010/11</td>\n",
       "      <td>84,543</td>\n",
       "      <td>89,505</td>\n",
       "      <td>40,442</td>\n",
       "    </tr>\n",
       "    <tr>\n",
       "      <th>4</th>\n",
       "      <td>2011/12</td>\n",
       "      <td>90,903</td>\n",
       "      <td>92,211</td>\n",
       "      <td>45,353</td>\n",
       "    </tr>\n",
       "    <tr>\n",
       "      <th>5</th>\n",
       "      <td>2012/13</td>\n",
       "      <td>102,069</td>\n",
       "      <td>100,129</td>\n",
       "      <td>48,722</td>\n",
       "    </tr>\n",
       "    <tr>\n",
       "      <th>6</th>\n",
       "      <td>2013/14</td>\n",
       "      <td>109,486</td>\n",
       "      <td>108,519</td>\n",
       "      <td>52,123</td>\n",
       "    </tr>\n",
       "    <tr>\n",
       "      <th>7</th>\n",
       "      <td>2014/15</td>\n",
       "      <td>112,765</td>\n",
       "      <td>121,637</td>\n",
       "      <td>59,364</td>\n",
       "    </tr>\n",
       "    <tr>\n",
       "      <th>8</th>\n",
       "      <td>2015/16</td>\n",
       "      <td>119,262</td>\n",
       "      <td>126,516</td>\n",
       "      <td>54,965</td>\n",
       "    </tr>\n",
       "    <tr>\n",
       "      <th>9</th>\n",
       "      <td>2016/17</td>\n",
       "      <td>115,841</td>\n",
       "      <td>124,888</td>\n",
       "      <td>50,107</td>\n",
       "    </tr>\n",
       "    <tr>\n",
       "      <th>10</th>\n",
       "      <td>2017/18</td>\n",
       "      <td>108,539</td>\n",
       "      <td>117,960</td>\n",
       "      <td>45,239</td>\n",
       "    </tr>\n",
       "  </tbody>\n",
       "</table>\n",
       "</div>"
      ],
      "text/plain": [
       "       Year Undergraduate Graduate Non-Degree\n",
       "0   2007/08        68,195   78,489     26,437\n",
       "1   2008/09        82,136   84,828     33,496\n",
       "2   2009/10        79,365   84,613     38,992\n",
       "3   2010/11        84,543   89,505     40,442\n",
       "4   2011/12        90,903   92,211     45,353\n",
       "5   2012/13       102,069  100,129     48,722\n",
       "6   2013/14       109,486  108,519     52,123\n",
       "7   2014/15       112,765  121,637     59,364\n",
       "8   2015/16       119,262  126,516     54,965\n",
       "9   2016/17       115,841  124,888     50,107\n",
       "10  2017/18       108,539  117,960     45,239"
      ]
     },
     "execution_count": 4,
     "metadata": {},
     "output_type": "execute_result"
    }
   ],
   "source": [
    "df = pd.read_csv(\"1-newstudents.csv\")\n",
    "df"
   ]
  },
  {
   "cell_type": "code",
   "execution_count": 5,
   "metadata": {},
   "outputs": [
    {
     "name": "stdout",
     "output_type": "stream",
     "text": [
      "<class 'pandas.core.frame.DataFrame'>\n",
      "RangeIndex: 11 entries, 0 to 10\n",
      "Data columns (total 4 columns):\n",
      "Year             11 non-null object\n",
      "Undergraduate    11 non-null object\n",
      "Graduate         11 non-null object\n",
      "Non-Degree       11 non-null object\n",
      "dtypes: object(4)\n",
      "memory usage: 432.0+ bytes\n"
     ]
    }
   ],
   "source": [
    "df.info()\n",
    "#都是object,说明数字的格式并不是int,无法被作为数字处理，所以直接作图会出现错误"
   ]
  },
  {
   "cell_type": "code",
   "execution_count": 35,
   "metadata": {},
   "outputs": [
    {
     "data": {
      "text/plain": [
       "0      68195\n",
       "1      82136\n",
       "2      79365\n",
       "3      84543\n",
       "4      90903\n",
       "5     102069\n",
       "6     109486\n",
       "7     112765\n",
       "8     119262\n",
       "9     115841\n",
       "10    108539\n",
       "Name: Undergraduate, dtype: int64"
      ]
     },
     "execution_count": 35,
     "metadata": {},
     "output_type": "execute_result"
    }
   ],
   "source": [
    "df.Undergraduate.replace(\",\", \" \")\n",
    "#不知道为什么没有用？？？可能是因为object?\n",
    "#object是什么？不能被处理吗？？？？？？？？？？？？？？？"
   ]
  },
  {
   "cell_type": "code",
   "execution_count": 8,
   "metadata": {},
   "outputs": [],
   "source": [
    "df[\"Undergraduate\"] = df[\"Undergraduate\"].str.replace(\",\", \"\").astype(int)"
   ]
  },
  {
   "cell_type": "code",
   "execution_count": 9,
   "metadata": {},
   "outputs": [
    {
     "data": {
      "text/html": [
       "<div>\n",
       "<style scoped>\n",
       "    .dataframe tbody tr th:only-of-type {\n",
       "        vertical-align: middle;\n",
       "    }\n",
       "\n",
       "    .dataframe tbody tr th {\n",
       "        vertical-align: top;\n",
       "    }\n",
       "\n",
       "    .dataframe thead th {\n",
       "        text-align: right;\n",
       "    }\n",
       "</style>\n",
       "<table border=\"1\" class=\"dataframe\">\n",
       "  <thead>\n",
       "    <tr style=\"text-align: right;\">\n",
       "      <th></th>\n",
       "      <th>Year</th>\n",
       "      <th>Undergraduate</th>\n",
       "      <th>Graduate</th>\n",
       "      <th>Non-Degree</th>\n",
       "    </tr>\n",
       "  </thead>\n",
       "  <tbody>\n",
       "    <tr>\n",
       "      <th>0</th>\n",
       "      <td>2007/08</td>\n",
       "      <td>68195</td>\n",
       "      <td>78,489</td>\n",
       "      <td>26,437</td>\n",
       "    </tr>\n",
       "    <tr>\n",
       "      <th>1</th>\n",
       "      <td>2008/09</td>\n",
       "      <td>82136</td>\n",
       "      <td>84,828</td>\n",
       "      <td>33,496</td>\n",
       "    </tr>\n",
       "    <tr>\n",
       "      <th>2</th>\n",
       "      <td>2009/10</td>\n",
       "      <td>79365</td>\n",
       "      <td>84,613</td>\n",
       "      <td>38,992</td>\n",
       "    </tr>\n",
       "    <tr>\n",
       "      <th>3</th>\n",
       "      <td>2010/11</td>\n",
       "      <td>84543</td>\n",
       "      <td>89,505</td>\n",
       "      <td>40,442</td>\n",
       "    </tr>\n",
       "    <tr>\n",
       "      <th>4</th>\n",
       "      <td>2011/12</td>\n",
       "      <td>90903</td>\n",
       "      <td>92,211</td>\n",
       "      <td>45,353</td>\n",
       "    </tr>\n",
       "    <tr>\n",
       "      <th>5</th>\n",
       "      <td>2012/13</td>\n",
       "      <td>102069</td>\n",
       "      <td>100,129</td>\n",
       "      <td>48,722</td>\n",
       "    </tr>\n",
       "    <tr>\n",
       "      <th>6</th>\n",
       "      <td>2013/14</td>\n",
       "      <td>109486</td>\n",
       "      <td>108,519</td>\n",
       "      <td>52,123</td>\n",
       "    </tr>\n",
       "    <tr>\n",
       "      <th>7</th>\n",
       "      <td>2014/15</td>\n",
       "      <td>112765</td>\n",
       "      <td>121,637</td>\n",
       "      <td>59,364</td>\n",
       "    </tr>\n",
       "    <tr>\n",
       "      <th>8</th>\n",
       "      <td>2015/16</td>\n",
       "      <td>119262</td>\n",
       "      <td>126,516</td>\n",
       "      <td>54,965</td>\n",
       "    </tr>\n",
       "    <tr>\n",
       "      <th>9</th>\n",
       "      <td>2016/17</td>\n",
       "      <td>115841</td>\n",
       "      <td>124,888</td>\n",
       "      <td>50,107</td>\n",
       "    </tr>\n",
       "    <tr>\n",
       "      <th>10</th>\n",
       "      <td>2017/18</td>\n",
       "      <td>108539</td>\n",
       "      <td>117,960</td>\n",
       "      <td>45,239</td>\n",
       "    </tr>\n",
       "  </tbody>\n",
       "</table>\n",
       "</div>"
      ],
      "text/plain": [
       "       Year  Undergraduate Graduate Non-Degree\n",
       "0   2007/08          68195   78,489     26,437\n",
       "1   2008/09          82136   84,828     33,496\n",
       "2   2009/10          79365   84,613     38,992\n",
       "3   2010/11          84543   89,505     40,442\n",
       "4   2011/12          90903   92,211     45,353\n",
       "5   2012/13         102069  100,129     48,722\n",
       "6   2013/14         109486  108,519     52,123\n",
       "7   2014/15         112765  121,637     59,364\n",
       "8   2015/16         119262  126,516     54,965\n",
       "9   2016/17         115841  124,888     50,107\n",
       "10  2017/18         108539  117,960     45,239"
      ]
     },
     "execution_count": 9,
     "metadata": {},
     "output_type": "execute_result"
    }
   ],
   "source": [
    "df\n",
    "#证明有效，所以继续这样处理每一列"
   ]
  },
  {
   "cell_type": "code",
   "execution_count": 10,
   "metadata": {},
   "outputs": [],
   "source": [
    "df[\"Graduate\"] = df[\"Graduate\"].str.replace(\",\", \"\").astype(int)\n",
    "df[\"Non-Degree\"] = df[\"Non-Degree\"].str.replace(\",\", \"\").astype(int)"
   ]
  },
  {
   "cell_type": "code",
   "execution_count": 11,
   "metadata": {},
   "outputs": [
    {
     "data": {
      "text/html": [
       "<div>\n",
       "<style scoped>\n",
       "    .dataframe tbody tr th:only-of-type {\n",
       "        vertical-align: middle;\n",
       "    }\n",
       "\n",
       "    .dataframe tbody tr th {\n",
       "        vertical-align: top;\n",
       "    }\n",
       "\n",
       "    .dataframe thead th {\n",
       "        text-align: right;\n",
       "    }\n",
       "</style>\n",
       "<table border=\"1\" class=\"dataframe\">\n",
       "  <thead>\n",
       "    <tr style=\"text-align: right;\">\n",
       "      <th></th>\n",
       "      <th>Year</th>\n",
       "      <th>Undergraduate</th>\n",
       "      <th>Graduate</th>\n",
       "      <th>Non-Degree</th>\n",
       "    </tr>\n",
       "  </thead>\n",
       "  <tbody>\n",
       "    <tr>\n",
       "      <th>0</th>\n",
       "      <td>2007/08</td>\n",
       "      <td>68195</td>\n",
       "      <td>78489</td>\n",
       "      <td>26437</td>\n",
       "    </tr>\n",
       "    <tr>\n",
       "      <th>1</th>\n",
       "      <td>2008/09</td>\n",
       "      <td>82136</td>\n",
       "      <td>84828</td>\n",
       "      <td>33496</td>\n",
       "    </tr>\n",
       "    <tr>\n",
       "      <th>2</th>\n",
       "      <td>2009/10</td>\n",
       "      <td>79365</td>\n",
       "      <td>84613</td>\n",
       "      <td>38992</td>\n",
       "    </tr>\n",
       "    <tr>\n",
       "      <th>3</th>\n",
       "      <td>2010/11</td>\n",
       "      <td>84543</td>\n",
       "      <td>89505</td>\n",
       "      <td>40442</td>\n",
       "    </tr>\n",
       "    <tr>\n",
       "      <th>4</th>\n",
       "      <td>2011/12</td>\n",
       "      <td>90903</td>\n",
       "      <td>92211</td>\n",
       "      <td>45353</td>\n",
       "    </tr>\n",
       "    <tr>\n",
       "      <th>5</th>\n",
       "      <td>2012/13</td>\n",
       "      <td>102069</td>\n",
       "      <td>100129</td>\n",
       "      <td>48722</td>\n",
       "    </tr>\n",
       "    <tr>\n",
       "      <th>6</th>\n",
       "      <td>2013/14</td>\n",
       "      <td>109486</td>\n",
       "      <td>108519</td>\n",
       "      <td>52123</td>\n",
       "    </tr>\n",
       "    <tr>\n",
       "      <th>7</th>\n",
       "      <td>2014/15</td>\n",
       "      <td>112765</td>\n",
       "      <td>121637</td>\n",
       "      <td>59364</td>\n",
       "    </tr>\n",
       "    <tr>\n",
       "      <th>8</th>\n",
       "      <td>2015/16</td>\n",
       "      <td>119262</td>\n",
       "      <td>126516</td>\n",
       "      <td>54965</td>\n",
       "    </tr>\n",
       "    <tr>\n",
       "      <th>9</th>\n",
       "      <td>2016/17</td>\n",
       "      <td>115841</td>\n",
       "      <td>124888</td>\n",
       "      <td>50107</td>\n",
       "    </tr>\n",
       "    <tr>\n",
       "      <th>10</th>\n",
       "      <td>2017/18</td>\n",
       "      <td>108539</td>\n",
       "      <td>117960</td>\n",
       "      <td>45239</td>\n",
       "    </tr>\n",
       "  </tbody>\n",
       "</table>\n",
       "</div>"
      ],
      "text/plain": [
       "       Year  Undergraduate  Graduate  Non-Degree\n",
       "0   2007/08          68195     78489       26437\n",
       "1   2008/09          82136     84828       33496\n",
       "2   2009/10          79365     84613       38992\n",
       "3   2010/11          84543     89505       40442\n",
       "4   2011/12          90903     92211       45353\n",
       "5   2012/13         102069    100129       48722\n",
       "6   2013/14         109486    108519       52123\n",
       "7   2014/15         112765    121637       59364\n",
       "8   2015/16         119262    126516       54965\n",
       "9   2016/17         115841    124888       50107\n",
       "10  2017/18         108539    117960       45239"
      ]
     },
     "execution_count": 11,
     "metadata": {},
     "output_type": "execute_result"
    }
   ],
   "source": [
    "df\n",
    "#至此df正常，可以作图"
   ]
  },
  {
   "cell_type": "code",
   "execution_count": 38,
   "metadata": {},
   "outputs": [
    {
     "data": {
      "text/plain": [
       "[<matplotlib.lines.Line2D at 0x1a22160c18>]"
      ]
     },
     "execution_count": 38,
     "metadata": {},
     "output_type": "execute_result"
    },
    {
     "data": {
      "image/png": "[encoded data removed]",
      "text/plain": [
       "<Figure size 1440x720 with 1 Axes>"
      ]
     },
     "metadata": {},
     "output_type": "display_data"
    }
   ],
   "source": [
    "#fig表示整个类，ax是一个子集，figsize不仅是比例，而且和大小有关\n",
    "#可以在Color brew里找颜色的代码\n",
    "#第一行是重新初始化\n",
    "fig, ax = plt.subplots(figsize=(20, 10))\n",
    "\n",
    "plt.title('New International Students in US')\n",
    "ax.title.set_fontsize(20)\n",
    "#是否可以调整字体大小？还是放在AI里做比较好？\n",
    "\n",
    "ax.plot(df[\"Year\"],\n",
    "        df[\"Undergraduate\"],\n",
    "        color = \"#1b9e77\",\n",
    "        linewidth=5.0)\n",
    "\n",
    "ax.plot(df[\"Year\"],\n",
    "        df[\"Graduate\"],\n",
    "        color = \"#d95f02\",\n",
    "        linewidth=5.0)\n",
    "\n",
    "ax.plot(df[\"Year\"],\n",
    "        df[\"Non-Degree\"],\n",
    "        color = \"#7570b3\",\n",
    "        linewidth=5.0)"
   ]
  },
  {
   "cell_type": "code",
   "execution_count": null,
   "metadata": {},
   "outputs": [],
   "source": [
    "plt.savefig(\"NewIntlStudents.pdf\", transparent=True)"
   ]
  },
  {
   "cell_type": "code",
   "execution_count": 63,
   "metadata": {},
   "outputs": [
    {
     "data": {
      "text/html": [
       "<div>\n",
       "<style scoped>\n",
       "    .dataframe tbody tr th:only-of-type {\n",
       "        vertical-align: middle;\n",
       "    }\n",
       "\n",
       "    .dataframe tbody tr th {\n",
       "        vertical-align: top;\n",
       "    }\n",
       "\n",
       "    .dataframe thead th {\n",
       "        text-align: right;\n",
       "    }\n",
       "</style>\n",
       "<table border=\"1\" class=\"dataframe\">\n",
       "  <thead>\n",
       "    <tr style=\"text-align: right;\">\n",
       "      <th></th>\n",
       "      <th>Rank</th>\n",
       "      <th>Places of origin</th>\n",
       "      <th>2017/18</th>\n",
       "      <th>% of Total</th>\n",
       "      <th>Change</th>\n",
       "    </tr>\n",
       "  </thead>\n",
       "  <tbody>\n",
       "    <tr>\n",
       "      <th>0</th>\n",
       "      <td>1</td>\n",
       "      <td>China</td>\n",
       "      <td>363,341</td>\n",
       "      <td>33.2</td>\n",
       "      <td>3.6</td>\n",
       "    </tr>\n",
       "    <tr>\n",
       "      <th>1</th>\n",
       "      <td>2</td>\n",
       "      <td>India</td>\n",
       "      <td>196,271</td>\n",
       "      <td>17.9</td>\n",
       "      <td>5.4</td>\n",
       "    </tr>\n",
       "    <tr>\n",
       "      <th>2</th>\n",
       "      <td>3</td>\n",
       "      <td>South Korea</td>\n",
       "      <td>54,555</td>\n",
       "      <td>5.0</td>\n",
       "      <td>-7.0</td>\n",
       "    </tr>\n",
       "    <tr>\n",
       "      <th>3</th>\n",
       "      <td>4</td>\n",
       "      <td>Saudi Arabia</td>\n",
       "      <td>44,432</td>\n",
       "      <td>4.1</td>\n",
       "      <td>-15.5</td>\n",
       "    </tr>\n",
       "    <tr>\n",
       "      <th>4</th>\n",
       "      <td>5</td>\n",
       "      <td>Canada</td>\n",
       "      <td>25,909</td>\n",
       "      <td>2.4</td>\n",
       "      <td>-4.3</td>\n",
       "    </tr>\n",
       "    <tr>\n",
       "      <th>5</th>\n",
       "      <td>6</td>\n",
       "      <td>Vietnam</td>\n",
       "      <td>24,325</td>\n",
       "      <td>2.2</td>\n",
       "      <td>8.4</td>\n",
       "    </tr>\n",
       "    <tr>\n",
       "      <th>6</th>\n",
       "      <td>7</td>\n",
       "      <td>Taiwan</td>\n",
       "      <td>22,454</td>\n",
       "      <td>2.1</td>\n",
       "      <td>4.4</td>\n",
       "    </tr>\n",
       "    <tr>\n",
       "      <th>7</th>\n",
       "      <td>8</td>\n",
       "      <td>Japan</td>\n",
       "      <td>18,753</td>\n",
       "      <td>1.7</td>\n",
       "      <td>-0.1</td>\n",
       "    </tr>\n",
       "    <tr>\n",
       "      <th>8</th>\n",
       "      <td>9</td>\n",
       "      <td>Mexico</td>\n",
       "      <td>15,468</td>\n",
       "      <td>1.4</td>\n",
       "      <td>-8.1</td>\n",
       "    </tr>\n",
       "    <tr>\n",
       "      <th>9</th>\n",
       "      <td>10</td>\n",
       "      <td>Brazil</td>\n",
       "      <td>14,620</td>\n",
       "      <td>1.3</td>\n",
       "      <td>11.7</td>\n",
       "    </tr>\n",
       "  </tbody>\n",
       "</table>\n",
       "</div>"
      ],
      "text/plain": [
       "   Rank Places of origin  2017/18  % of Total  Change\n",
       "0     1            China  363,341        33.2     3.6\n",
       "1     2            India  196,271        17.9     5.4\n",
       "2     3      South Korea   54,555         5.0    -7.0\n",
       "3     4     Saudi Arabia   44,432         4.1   -15.5\n",
       "4     5           Canada   25,909         2.4    -4.3\n",
       "5     6          Vietnam   24,325         2.2     8.4\n",
       "6     7           Taiwan   22,454         2.1     4.4\n",
       "7     8            Japan   18,753         1.7    -0.1\n",
       "8     9           Mexico   15,468         1.4    -8.1\n",
       "9    10           Brazil   14,620         1.3    11.7"
      ]
     },
     "execution_count": 63,
     "metadata": {},
     "output_type": "execute_result"
    }
   ],
   "source": [
    "#图2 origine  条状图  \n",
    "\n",
    "origine = pd.read_csv('2-origine.csv')\n",
    "origine"
   ]
  },
  {
   "cell_type": "code",
   "execution_count": 64,
   "metadata": {},
   "outputs": [
    {
     "name": "stdout",
     "output_type": "stream",
     "text": [
      "<class 'pandas.core.frame.DataFrame'>\n",
      "RangeIndex: 10 entries, 0 to 9\n",
      "Data columns (total 5 columns):\n",
      "Rank                10 non-null int64\n",
      "Places of origin    10 non-null object\n",
      "2017/18             10 non-null object\n",
      "% of Total          10 non-null float64\n",
      "Change              10 non-null float64\n",
      "dtypes: float64(2), int64(1), object(2)\n",
      "memory usage: 480.0+ bytes\n"
     ]
    }
   ],
   "source": [
    "origine.info()"
   ]
  },
  {
   "cell_type": "code",
   "execution_count": 65,
   "metadata": {},
   "outputs": [],
   "source": [
    "origine[\"2017/18\"] = origine[\"2017/18\"].str.replace(\",\", \"\").astype(int)"
   ]
  },
  {
   "cell_type": "code",
   "execution_count": 66,
   "metadata": {},
   "outputs": [
    {
     "data": {
      "text/html": [
       "<div>\n",
       "<style scoped>\n",
       "    .dataframe tbody tr th:only-of-type {\n",
       "        vertical-align: middle;\n",
       "    }\n",
       "\n",
       "    .dataframe tbody tr th {\n",
       "        vertical-align: top;\n",
       "    }\n",
       "\n",
       "    .dataframe thead th {\n",
       "        text-align: right;\n",
       "    }\n",
       "</style>\n",
       "<table border=\"1\" class=\"dataframe\">\n",
       "  <thead>\n",
       "    <tr style=\"text-align: right;\">\n",
       "      <th></th>\n",
       "      <th>Rank</th>\n",
       "      <th>Places of origin</th>\n",
       "      <th>2017/18</th>\n",
       "      <th>% of Total</th>\n",
       "      <th>Change</th>\n",
       "    </tr>\n",
       "  </thead>\n",
       "  <tbody>\n",
       "    <tr>\n",
       "      <th>0</th>\n",
       "      <td>1</td>\n",
       "      <td>China</td>\n",
       "      <td>363341</td>\n",
       "      <td>33.2</td>\n",
       "      <td>3.6</td>\n",
       "    </tr>\n",
       "    <tr>\n",
       "      <th>1</th>\n",
       "      <td>2</td>\n",
       "      <td>India</td>\n",
       "      <td>196271</td>\n",
       "      <td>17.9</td>\n",
       "      <td>5.4</td>\n",
       "    </tr>\n",
       "    <tr>\n",
       "      <th>2</th>\n",
       "      <td>3</td>\n",
       "      <td>South Korea</td>\n",
       "      <td>54555</td>\n",
       "      <td>5.0</td>\n",
       "      <td>-7.0</td>\n",
       "    </tr>\n",
       "    <tr>\n",
       "      <th>3</th>\n",
       "      <td>4</td>\n",
       "      <td>Saudi Arabia</td>\n",
       "      <td>44432</td>\n",
       "      <td>4.1</td>\n",
       "      <td>-15.5</td>\n",
       "    </tr>\n",
       "    <tr>\n",
       "      <th>4</th>\n",
       "      <td>5</td>\n",
       "      <td>Canada</td>\n",
       "      <td>25909</td>\n",
       "      <td>2.4</td>\n",
       "      <td>-4.3</td>\n",
       "    </tr>\n",
       "    <tr>\n",
       "      <th>5</th>\n",
       "      <td>6</td>\n",
       "      <td>Vietnam</td>\n",
       "      <td>24325</td>\n",
       "      <td>2.2</td>\n",
       "      <td>8.4</td>\n",
       "    </tr>\n",
       "    <tr>\n",
       "      <th>6</th>\n",
       "      <td>7</td>\n",
       "      <td>Taiwan</td>\n",
       "      <td>22454</td>\n",
       "      <td>2.1</td>\n",
       "      <td>4.4</td>\n",
       "    </tr>\n",
       "    <tr>\n",
       "      <th>7</th>\n",
       "      <td>8</td>\n",
       "      <td>Japan</td>\n",
       "      <td>18753</td>\n",
       "      <td>1.7</td>\n",
       "      <td>-0.1</td>\n",
       "    </tr>\n",
       "    <tr>\n",
       "      <th>8</th>\n",
       "      <td>9</td>\n",
       "      <td>Mexico</td>\n",
       "      <td>15468</td>\n",
       "      <td>1.4</td>\n",
       "      <td>-8.1</td>\n",
       "    </tr>\n",
       "    <tr>\n",
       "      <th>9</th>\n",
       "      <td>10</td>\n",
       "      <td>Brazil</td>\n",
       "      <td>14620</td>\n",
       "      <td>1.3</td>\n",
       "      <td>11.7</td>\n",
       "    </tr>\n",
       "  </tbody>\n",
       "</table>\n",
       "</div>"
      ],
      "text/plain": [
       "   Rank Places of origin  2017/18  % of Total  Change\n",
       "0     1            China   363341        33.2     3.6\n",
       "1     2            India   196271        17.9     5.4\n",
       "2     3      South Korea    54555         5.0    -7.0\n",
       "3     4     Saudi Arabia    44432         4.1   -15.5\n",
       "4     5           Canada    25909         2.4    -4.3\n",
       "5     6          Vietnam    24325         2.2     8.4\n",
       "6     7           Taiwan    22454         2.1     4.4\n",
       "7     8            Japan    18753         1.7    -0.1\n",
       "8     9           Mexico    15468         1.4    -8.1\n",
       "9    10           Brazil    14620         1.3    11.7"
      ]
     },
     "execution_count": 66,
     "metadata": {},
     "output_type": "execute_result"
    }
   ],
   "source": [
    "origine"
   ]
  },
  {
   "cell_type": "code",
   "execution_count": 69,
   "metadata": {},
   "outputs": [
    {
     "data": {
      "image/png": "[encoded data removed]",
      "text/plain": [
       "<Figure size 432x288 with 1 Axes>"
      ]
     },
     "metadata": {},
     "output_type": "display_data"
    }
   ],
   "source": [
    "sns.barplot(data=origine, \n",
    "            x='2017/18', \n",
    "            y='Places of origin')\n",
    "\n",
    "plt.savefig(\"Places of origin.pdf\", transparent=True,bbox_inches = 'tight')\n",
    "#转换成PDF以后左边国家名字不完整"
   ]
  },
  {
   "cell_type": "code",
   "execution_count": 18,
   "metadata": {},
   "outputs": [
    {
     "data": {
      "text/plain": [
       "<matplotlib.axes._subplots.AxesSubplot at 0x1a219b8d30>"
      ]
     },
     "execution_count": 18,
     "metadata": {},
     "output_type": "execute_result"
    },
    {
     "data": {
      "image/png": "[encoded data removed]",
      "text/plain": [
       "<Figure size 360x432 with 1 Axes>"
      ]
     },
     "metadata": {
      "needs_background": "light"
     },
     "output_type": "display_data"
    }
   ],
   "source": [
    "#另外一种方法，有什么区别\n",
    "fig, ax = plt.subplots()\n",
    "origine.iloc[::-1].plot(ax=ax, x='Origine', y='2017/18', kind='barh', color=\"#E5F013\", width=0.6, figsize=(5, 6))"
   ]
  },
  {
   "cell_type": "code",
   "execution_count": 19,
   "metadata": {},
   "outputs": [
    {
     "data": {
      "text/html": [
       "<div>\n",
       "<style scoped>\n",
       "    .dataframe tbody tr th:only-of-type {\n",
       "        vertical-align: middle;\n",
       "    }\n",
       "\n",
       "    .dataframe tbody tr th {\n",
       "        vertical-align: top;\n",
       "    }\n",
       "\n",
       "    .dataframe thead th {\n",
       "        text-align: right;\n",
       "    }\n",
       "</style>\n",
       "<table border=\"1\" class=\"dataframe\">\n",
       "  <thead>\n",
       "    <tr style=\"text-align: right;\">\n",
       "      <th></th>\n",
       "      <th>Year</th>\n",
       "      <th>Chinese_students</th>\n",
       "      <th>y-o-y_change%</th>\n",
       "    </tr>\n",
       "  </thead>\n",
       "  <tbody>\n",
       "    <tr>\n",
       "      <th>0</th>\n",
       "      <td>2017/18</td>\n",
       "      <td>363,341</td>\n",
       "      <td>3.6</td>\n",
       "    </tr>\n",
       "    <tr>\n",
       "      <th>1</th>\n",
       "      <td>2016/17</td>\n",
       "      <td>350,755</td>\n",
       "      <td>6.8</td>\n",
       "    </tr>\n",
       "    <tr>\n",
       "      <th>2</th>\n",
       "      <td>2015/16</td>\n",
       "      <td>328,547</td>\n",
       "      <td>8.1</td>\n",
       "    </tr>\n",
       "    <tr>\n",
       "      <th>3</th>\n",
       "      <td>2014/15</td>\n",
       "      <td>304,040</td>\n",
       "      <td>10.8</td>\n",
       "    </tr>\n",
       "    <tr>\n",
       "      <th>4</th>\n",
       "      <td>2013/14</td>\n",
       "      <td>274,439</td>\n",
       "      <td>16.5</td>\n",
       "    </tr>\n",
       "    <tr>\n",
       "      <th>5</th>\n",
       "      <td>2012/13</td>\n",
       "      <td>235,597</td>\n",
       "      <td>21.4</td>\n",
       "    </tr>\n",
       "    <tr>\n",
       "      <th>6</th>\n",
       "      <td>2011/12</td>\n",
       "      <td>194,029</td>\n",
       "      <td>23.1</td>\n",
       "    </tr>\n",
       "    <tr>\n",
       "      <th>7</th>\n",
       "      <td>2010/11</td>\n",
       "      <td>157,558</td>\n",
       "      <td>23.5</td>\n",
       "    </tr>\n",
       "    <tr>\n",
       "      <th>8</th>\n",
       "      <td>2009/10</td>\n",
       "      <td>127,628</td>\n",
       "      <td>29.9</td>\n",
       "    </tr>\n",
       "    <tr>\n",
       "      <th>9</th>\n",
       "      <td>2008/09</td>\n",
       "      <td>98,235</td>\n",
       "      <td>21.1</td>\n",
       "    </tr>\n",
       "    <tr>\n",
       "      <th>10</th>\n",
       "      <td>2007/08</td>\n",
       "      <td>81,127</td>\n",
       "      <td>19.8</td>\n",
       "    </tr>\n",
       "  </tbody>\n",
       "</table>\n",
       "</div>"
      ],
      "text/plain": [
       "       Year Chinese_students  y-o-y_change%\n",
       "0   2017/18          363,341            3.6\n",
       "1   2016/17          350,755            6.8\n",
       "2   2015/16          328,547            8.1\n",
       "3   2014/15          304,040           10.8\n",
       "4   2013/14          274,439           16.5\n",
       "5   2012/13          235,597           21.4\n",
       "6   2011/12          194,029           23.1\n",
       "7   2010/11          157,558           23.5\n",
       "8   2009/10          127,628           29.9\n",
       "9   2008/09           98,235           21.1\n",
       "10  2007/08           81,127           19.8"
      ]
     },
     "execution_count": 19,
     "metadata": {},
     "output_type": "execute_result"
    }
   ],
   "source": [
    "#图3 中国学生数量的年度变化\n",
    "\n",
    "chinesechange = pd.read_csv('3-Chinese Students.csv')\n",
    "chinesechange"
   ]
  },
  {
   "cell_type": "code",
   "execution_count": 20,
   "metadata": {},
   "outputs": [
    {
     "name": "stdout",
     "output_type": "stream",
     "text": [
      "<class 'pandas.core.frame.DataFrame'>\n",
      "RangeIndex: 11 entries, 0 to 10\n",
      "Data columns (total 3 columns):\n",
      "Year                11 non-null object\n",
      "Chinese_students    11 non-null object\n",
      "y-o-y_change%       11 non-null float64\n",
      "dtypes: float64(1), object(2)\n",
      "memory usage: 344.0+ bytes\n"
     ]
    }
   ],
   "source": [
    "chinesechange.info()"
   ]
  },
  {
   "cell_type": "code",
   "execution_count": 21,
   "metadata": {},
   "outputs": [],
   "source": [
    "chinesechange[\"Chinese_students\"] = chinesechange[\"Chinese_students\"].str.replace(\",\", \"\").astype(int)"
   ]
  },
  {
   "cell_type": "code",
   "execution_count": 22,
   "metadata": {},
   "outputs": [
    {
     "data": {
      "text/html": [
       "<div>\n",
       "<style scoped>\n",
       "    .dataframe tbody tr th:only-of-type {\n",
       "        vertical-align: middle;\n",
       "    }\n",
       "\n",
       "    .dataframe tbody tr th {\n",
       "        vertical-align: top;\n",
       "    }\n",
       "\n",
       "    .dataframe thead th {\n",
       "        text-align: right;\n",
       "    }\n",
       "</style>\n",
       "<table border=\"1\" class=\"dataframe\">\n",
       "  <thead>\n",
       "    <tr style=\"text-align: right;\">\n",
       "      <th></th>\n",
       "      <th>Year</th>\n",
       "      <th>Chinese_students</th>\n",
       "      <th>y-o-y_change%</th>\n",
       "    </tr>\n",
       "  </thead>\n",
       "  <tbody>\n",
       "    <tr>\n",
       "      <th>0</th>\n",
       "      <td>2017/18</td>\n",
       "      <td>363341</td>\n",
       "      <td>3.6</td>\n",
       "    </tr>\n",
       "    <tr>\n",
       "      <th>1</th>\n",
       "      <td>2016/17</td>\n",
       "      <td>350755</td>\n",
       "      <td>6.8</td>\n",
       "    </tr>\n",
       "    <tr>\n",
       "      <th>2</th>\n",
       "      <td>2015/16</td>\n",
       "      <td>328547</td>\n",
       "      <td>8.1</td>\n",
       "    </tr>\n",
       "    <tr>\n",
       "      <th>3</th>\n",
       "      <td>2014/15</td>\n",
       "      <td>304040</td>\n",
       "      <td>10.8</td>\n",
       "    </tr>\n",
       "    <tr>\n",
       "      <th>4</th>\n",
       "      <td>2013/14</td>\n",
       "      <td>274439</td>\n",
       "      <td>16.5</td>\n",
       "    </tr>\n",
       "    <tr>\n",
       "      <th>5</th>\n",
       "      <td>2012/13</td>\n",
       "      <td>235597</td>\n",
       "      <td>21.4</td>\n",
       "    </tr>\n",
       "    <tr>\n",
       "      <th>6</th>\n",
       "      <td>2011/12</td>\n",
       "      <td>194029</td>\n",
       "      <td>23.1</td>\n",
       "    </tr>\n",
       "    <tr>\n",
       "      <th>7</th>\n",
       "      <td>2010/11</td>\n",
       "      <td>157558</td>\n",
       "      <td>23.5</td>\n",
       "    </tr>\n",
       "    <tr>\n",
       "      <th>8</th>\n",
       "      <td>2009/10</td>\n",
       "      <td>127628</td>\n",
       "      <td>29.9</td>\n",
       "    </tr>\n",
       "    <tr>\n",
       "      <th>9</th>\n",
       "      <td>2008/09</td>\n",
       "      <td>98235</td>\n",
       "      <td>21.1</td>\n",
       "    </tr>\n",
       "    <tr>\n",
       "      <th>10</th>\n",
       "      <td>2007/08</td>\n",
       "      <td>81127</td>\n",
       "      <td>19.8</td>\n",
       "    </tr>\n",
       "  </tbody>\n",
       "</table>\n",
       "</div>"
      ],
      "text/plain": [
       "       Year  Chinese_students  y-o-y_change%\n",
       "0   2017/18            363341            3.6\n",
       "1   2016/17            350755            6.8\n",
       "2   2015/16            328547            8.1\n",
       "3   2014/15            304040           10.8\n",
       "4   2013/14            274439           16.5\n",
       "5   2012/13            235597           21.4\n",
       "6   2011/12            194029           23.1\n",
       "7   2010/11            157558           23.5\n",
       "8   2009/10            127628           29.9\n",
       "9   2008/09             98235           21.1\n",
       "10  2007/08             81127           19.8"
      ]
     },
     "execution_count": 22,
     "metadata": {},
     "output_type": "execute_result"
    }
   ],
   "source": [
    "chinesechange"
   ]
  },
  {
   "cell_type": "code",
   "execution_count": 48,
   "metadata": {},
   "outputs": [
    {
     "data": {
      "image/png": "[encoded data removed]",
      "text/plain": [
       "<Figure size 720x360 with 1 Axes>"
      ]
     },
     "metadata": {},
     "output_type": "display_data"
    }
   ],
   "source": [
    "#year 这一栏是obj，无法作为数字被识别，所以只能手动排序，所以用 iloc[::-1] 来做倒序\n",
    "\n",
    "fig, ax=plt.subplots(figsize=(10,5))\n",
    "\n",
    "plt.plot(chinesechange.Year.iloc[::-1], # x轴数据\n",
    "         chinesechange[\"y-o-y_change%\"].iloc[::-1], # y轴数据\n",
    "         linestyle = '-', # 折线类型\n",
    "         linewidth = 2, # 折线宽度\n",
    "         color = 'blue', # 折线颜色\n",
    "         fillstyle =\"full\",\n",
    "         markerfacecolor='#FFFFFF',\n",
    "         marker=\"o\",\n",
    "         markersize=5\n",
    "        )\n",
    "\n",
    "plt.savefig(\"ChineseGrowth.pdf\", transparent=False)\n",
    "#网格线和底灰色时有时无，不知道为什么\n",
    "#Transparent的效果只有在AI里才能看出效果"
   ]
  },
  {
   "cell_type": "code",
   "execution_count": 25,
   "metadata": {},
   "outputs": [
    {
     "data": {
      "text/plain": [
       "[<matplotlib.lines.Line2D at 0x1a21b21630>]"
      ]
     },
     "execution_count": 25,
     "metadata": {},
     "output_type": "execute_result"
    },
    {
     "data": {
      "image/png": "[encoded data removed]",
      "text/plain": [
       "<Figure size 432x288 with 1 Axes>"
      ]
     },
     "metadata": {
      "needs_background": "light"
     },
     "output_type": "display_data"
    }
   ],
   "source": [
    "#另一个方法\n",
    "plt.plot(chinesechange.Year.iloc[::-1], # x轴数据\n",
    "         chinesechange[\"y-o-y_change%\"].iloc[::-1], # y轴数据\n",
    "         linestyle = '-', # 折线类型\n",
    "         linewidth = 2, # 折线宽度\n",
    "         color = 'blue'# 折线颜色\n",
    "        )\n",
    "\n",
    "#怎么修改y轴？"
   ]
  },
  {
   "cell_type": "code",
   "execution_count": 60,
   "metadata": {},
   "outputs": [
    {
     "data": {
      "text/html": [
       "<div>\n",
       "<style scoped>\n",
       "    .dataframe tbody tr th:only-of-type {\n",
       "        vertical-align: middle;\n",
       "    }\n",
       "\n",
       "    .dataframe tbody tr th {\n",
       "        vertical-align: top;\n",
       "    }\n",
       "\n",
       "    .dataframe thead th {\n",
       "        text-align: right;\n",
       "    }\n",
       "</style>\n",
       "<table border=\"1\" class=\"dataframe\">\n",
       "  <thead>\n",
       "    <tr style=\"text-align: right;\">\n",
       "      <th></th>\n",
       "      <th>Fields</th>\n",
       "      <th>Percent</th>\n",
       "    </tr>\n",
       "  </thead>\n",
       "  <tbody>\n",
       "    <tr>\n",
       "      <th>0</th>\n",
       "      <td>Humanities</td>\n",
       "      <td>1.1</td>\n",
       "    </tr>\n",
       "    <tr>\n",
       "      <th>1</th>\n",
       "      <td>Health Professions</td>\n",
       "      <td>1.4</td>\n",
       "    </tr>\n",
       "    <tr>\n",
       "      <th>2</th>\n",
       "      <td>Education</td>\n",
       "      <td>1.8</td>\n",
       "    </tr>\n",
       "    <tr>\n",
       "      <th>3</th>\n",
       "      <td>Intensive English</td>\n",
       "      <td>2.1</td>\n",
       "    </tr>\n",
       "    <tr>\n",
       "      <th>4</th>\n",
       "      <td>Undeclared</td>\n",
       "      <td>2.3</td>\n",
       "    </tr>\n",
       "    <tr>\n",
       "      <th>5</th>\n",
       "      <td>Fine/ Applied Arts</td>\n",
       "      <td>6.6</td>\n",
       "    </tr>\n",
       "    <tr>\n",
       "      <th>6</th>\n",
       "      <td>Physical/ Life Sciences</td>\n",
       "      <td>8.4</td>\n",
       "    </tr>\n",
       "    <tr>\n",
       "      <th>7</th>\n",
       "      <td>Social Sciences</td>\n",
       "      <td>8.4</td>\n",
       "    </tr>\n",
       "    <tr>\n",
       "      <th>8</th>\n",
       "      <td>Other Fields of Study</td>\n",
       "      <td>11.0</td>\n",
       "    </tr>\n",
       "    <tr>\n",
       "      <th>9</th>\n",
       "      <td>Math/ Computer Science</td>\n",
       "      <td>17.2</td>\n",
       "    </tr>\n",
       "    <tr>\n",
       "      <th>10</th>\n",
       "      <td>Engineering</td>\n",
       "      <td>19.0</td>\n",
       "    </tr>\n",
       "    <tr>\n",
       "      <th>11</th>\n",
       "      <td>Business/ Mgmt.</td>\n",
       "      <td>20.7</td>\n",
       "    </tr>\n",
       "  </tbody>\n",
       "</table>\n",
       "</div>"
      ],
      "text/plain": [
       "                     Fields  Percent\n",
       "0                Humanities      1.1\n",
       "1        Health Professions      1.4\n",
       "2                 Education      1.8\n",
       "3         Intensive English      2.1\n",
       "4                Undeclared      2.3\n",
       "5        Fine/ Applied Arts      6.6\n",
       "6   Physical/ Life Sciences      8.4\n",
       "7           Social Sciences      8.4\n",
       "8     Other Fields of Study     11.0\n",
       "9    Math/ Computer Science     17.2\n",
       "10              Engineering     19.0\n",
       "11          Business/ Mgmt.     20.7"
      ]
     },
     "execution_count": 60,
     "metadata": {},
     "output_type": "execute_result"
    }
   ],
   "source": [
    "#图4  中国学生的专业偏好  做pie chart \n",
    "#饼图的不同板块需要按照大小来排，饼上有数据\n",
    "\n",
    "fields = pd.read_csv('4-fields.csv')\n",
    "fields = fields.sort_values(by=\"Percent\").reset_index(drop=True)\n",
    "fields"
   ]
  },
  {
   "cell_type": "code",
   "execution_count": 61,
   "metadata": {},
   "outputs": [
    {
     "name": "stdout",
     "output_type": "stream",
     "text": [
      "<class 'pandas.core.frame.DataFrame'>\n",
      "RangeIndex: 12 entries, 0 to 11\n",
      "Data columns (total 2 columns):\n",
      "Fields     12 non-null object\n",
      "Percent    12 non-null float64\n",
      "dtypes: float64(1), object(1)\n",
      "memory usage: 272.0+ bytes\n"
     ]
    }
   ],
   "source": [
    "fields.info()"
   ]
  },
  {
   "cell_type": "code",
   "execution_count": 62,
   "metadata": {},
   "outputs": [
    {
     "data": {
      "text/plain": [
       "0                  Humanities\n",
       "1          Health Professions\n",
       "2                   Education\n",
       "3           Intensive English\n",
       "4                  Undeclared\n",
       "5          Fine/ Applied Arts\n",
       "6     Physical/ Life Sciences\n",
       "7             Social Sciences\n",
       "8       Other Fields of Study\n",
       "9      Math/ Computer Science\n",
       "10                Engineering\n",
       "11            Business/ Mgmt.\n",
       "Name: Fields, dtype: object"
      ]
     },
     "execution_count": 62,
     "metadata": {},
     "output_type": "execute_result"
    }
   ],
   "source": [
    "fields['Fields']"
   ]
  },
  {
   "cell_type": "code",
   "execution_count": 30,
   "metadata": {},
   "outputs": [
    {
     "data": {
      "text/plain": [
       "0      1.1\n",
       "1      1.4\n",
       "2      1.8\n",
       "3      2.1\n",
       "4      2.3\n",
       "5      6.6\n",
       "6      8.4\n",
       "7      8.4\n",
       "8     11.0\n",
       "9     17.2\n",
       "10    19.0\n",
       "11    20.7\n",
       "Name: Percent, dtype: float64"
      ]
     },
     "execution_count": 30,
     "metadata": {},
     "output_type": "execute_result"
    }
   ],
   "source": [
    "fields['Percent']"
   ]
  },
  {
   "cell_type": "code",
   "execution_count": 59,
   "metadata": {},
   "outputs": [
    {
     "data": {
      "image/png": "[encoded data removed]",
      "text/plain": [
       "<Figure size 432x288 with 1 Axes>"
      ]
     },
     "metadata": {},
     "output_type": "display_data"
    }
   ],
   "source": [
    "#做饼图\n",
    "plt.style.use('ggplot')\n",
    "plt.axes(aspect='equal') #不懂这一步\n",
    "\n",
    "colors=['#a6cee3','#1f78b4','#b2df8a','#33a02c','#fb9a99','#e31a1c','#fdbf6f','#ff7f00','#cab2d6','#8dd3c7','#984ea3','#fccde5']\n",
    "\n",
    "\n",
    "plt.pie(x = fields.Percent, # 绘图数据\n",
    "        autopct='%.1f%%', # 设置百分比的格式，这里保留一位小数（这句的内容不懂）\n",
    "        colors=colors,\n",
    "        startangle = 90, # 设置饼图的初始角度，可能饼图从哪里开始是看这一句？\n",
    "        radius = 1, # 设置饼图的半径，数字代表什么？\n",
    "        counterclock = False, # 是否逆时针，这里设置为顺时针方向\n",
    "        wedgeprops = {'linewidth': 1.5, 'edgecolor': None},# 设置饼图内外边界的属性值\n",
    "        textprops = {'fontsize':12, 'color':'k'}, # 设置文本标签的属性值\n",
    "        center = (1.8,1.8), # 设置饼图的原点 （不明白这一句）\n",
    "        frame = 1 )# 是否显示饼图的图框，这里设置显示  \n",
    "\n",
    "#这两行是设置图例\n",
    "labels = list(fields.Fields)\n",
    "plt.legend(labels, loc=2)#不知道loc=2是什么意思？？？？？\n",
    "\n",
    "plt.xticks(())\n",
    "plt.yticks(())\n",
    "\n",
    "plt.savefig(\"fields.pdf\", transparent=True,bbox_inches = 'tight')"
   ]
  },
  {
   "cell_type": "code",
   "execution_count": null,
   "metadata": {},
   "outputs": [],
   "source": []
  }
 ],
 "metadata": {
  "kernelspec": {
   "display_name": "Python 3",
   "language": "python",
   "name": "python3"
  },
  "language_info": {
   "codemirror_mode": {
    "name": "ipython",
    "version": 3
   },
   "file_extension": ".py",
   "mimetype": "text/x-python",
   "name": "python",
   "nbconvert_exporter": "python",
   "pygments_lexer": "ipython3",
   "version": "3.7.3"
  }
 },
 "nbformat": 4,
 "nbformat_minor": 2
}
