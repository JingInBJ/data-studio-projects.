{
 "cells": [
  {
   "cell_type": "markdown",
   "metadata": {},
   "source": [
    "# Population"
   ]
  },
  {
   "cell_type": "code",
   "execution_count": null,
   "metadata": {},
   "outputs": [],
   "source": [
    "#=========================\n",
    "#        SETTINGS\n",
    "#=========================\n",
    "urlList = [\n",
    "    \"http://www.citymayors.com/statistics/largest-cities-population-125.html\",\n",
    "    \"http://www.citymayors.com/statistics/largest-cities-population-250.html\"\n",
    "]\n",
    "#=========================\n",
    "import requests\n",
    "import urllib.request\n",
    "import re\n",
    "from bs4 import BeautifulSoup\n",
    "from urllib.request import Request, urlopen\n",
    "import pandas as pd\n",
    "\n",
    "#Initialize\n",
    "rankList = []\n",
    "cityNameList = []\n",
    "countryList = []\n",
    "cityPopulationList = []\n",
    "metroPopulationList = []\n",
    "\n",
    "for url in urlList:\n",
    "    page = urlopen(url)\n",
    "    results = BeautifulSoup(page).find(string = \"World rank\").parent.parent.parent.parent.parent.parent.find_all(\"tr\")\n",
    "    results.pop(0) #Remove table head\n",
    "    \n",
    "    count = 0 #For tracing progress\n",
    "    print(\"Scraping: \" + url)\n",
    "    \n",
    "    for result in results:\n",
    "        tds = result.find_all(\"td\")\n",
    "        rank = tds[0].text.strip()\n",
    "        cityName = tds[1].text.strip().title()\n",
    "        countryName = tds[2].text.strip()\n",
    "        cityPopulation = tds[3].text.replace(\",\", \"\").strip()\n",
    "        metroPopulation = tds[4].text.replace(\",\", \"\").strip()\n",
    "        \n",
    "        rankList.append(rank)\n",
    "        cityNameList.append(cityName)\n",
    "        countryList.append(countryName)\n",
    "        cityPopulationList.append(cityPopulation)\n",
    "        metroPopulationList.append(metroPopulation)\n",
    "        \n",
    "        #Tracing progress\n",
    "        print(\"{:.0%}\".format(count/len(results)) + \" finished.\")\n",
    "        count +=1\n",
    "#Output CSV\n",
    "total = dict(zip(['Rank', \n",
    "                  'City Name', \n",
    "                  'Country Name', \n",
    "                  'City Population', \n",
    "                  'Metro Population'], \n",
    "                 [rankList, \n",
    "                  cityNameList, \n",
    "                  countryList, \n",
    "                  cityPopulationList, \n",
    "                  metroPopulationList]))\n",
    "df = pd.DataFrame(total)\n",
    "df.to_csv(\"WorldMetroPopulation.csv\", index=False)\n",
    "print(\"Done!\")"
   ]
  }
 ],
 "metadata": {
  "kernelspec": {
   "display_name": "Python 3",
   "language": "python",
   "name": "python3"
  },
  "language_info": {
   "codemirror_mode": {
    "name": "ipython",
    "version": 3
   },
   "file_extension": ".py",
   "mimetype": "text/x-python",
   "name": "python",
   "nbconvert_exporter": "python",
   "pygments_lexer": "ipython3",
   "version": "3.7.3"
  }
 },
 "nbformat": 4,
 "nbformat_minor": 2
}
