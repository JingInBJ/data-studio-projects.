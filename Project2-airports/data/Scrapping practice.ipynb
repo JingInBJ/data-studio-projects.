{
 "cells": [
  {
   "cell_type": "code",
   "execution_count": 1,
   "metadata": {},
   "outputs": [],
   "source": [
    "import requests\n",
    "import urllib.request\n",
    "import re\n",
    "from bs4 import BeautifulSoup\n",
    "from urllib.request import Request, urlopen\n",
    "import pandas as pd"
   ]
  },
  {
   "cell_type": "code",
   "execution_count": 2,
   "metadata": {},
   "outputs": [],
   "source": [
    "#passenger data https://aci.aero/data-centre/annual-traffic-data/passengers/2017-passenger-summary-annual-traffic-data/\n",
    "\n",
    "#set the time range \n",
    "\n",
    "startYear = 2007\n",
    "endYear = 2017\n",
    "\n",
    "#为什么设置pageNm? \n",
    "pageNum = startYear\n",
    "\n",
    "#因为有多个表格，loop所有column\n",
    "yearList = []\n",
    "rankList = []\n",
    "airportCodeList = []\n",
    "cityNameList = []\n",
    "passengerTotalList = []\n",
    "changePercentList = []"
   ]
  },
  {
   "cell_type": "code",
   "execution_count": null,
   "metadata": {},
   "outputs": [],
   "source": [
    "#除了2017年，其他年份的url结构一致\n",
    "\n",
    "#问题：为什么pagenum要设置为str? \n",
    "\n",
    "while pageNum <= endYear:\n",
    "    \n",
    "    if pageNum == 2017:\n",
    "        url = 'https://aci.aero/data-centre/annual-traffic-data/passengers/' + str(pageNum) + '-passenger-summary-annual-traffic-data/'\n",
    "    else:\n",
    "        url = 'https://aci.aero/data-centre/annual-traffic-data/passengers/' + str(pageNum) + '-final-summary/'\n",
    "    \n",
    "    #Loading the page\n",
    "    hdr = {'User-Agent': 'Mozilla/5.0'}\n",
    "    req = Request(url,headers=hdr)\n",
    "    page = urlopen(req)\n",
    "    results = BeautifulSoup(page).find(class_=\"row-hover\").find_all(\"tr\")\n",
    "    \n",
    "    for result in results:\n",
    "        tds = result.find_all(\"td\")\n",
    "    "
   ]
  }
 ],
 "metadata": {
  "kernelspec": {
   "display_name": "Python 3",
   "language": "python",
   "name": "python3"
  },
  "language_info": {
   "codemirror_mode": {
    "name": "ipython",
    "version": 3
   },
   "file_extension": ".py",
   "mimetype": "text/x-python",
   "name": "python",
   "nbconvert_exporter": "python",
   "pygments_lexer": "ipython3",
   "version": "3.7.3"
  }
 },
 "nbformat": 4,
 "nbformat_minor": 2
}
