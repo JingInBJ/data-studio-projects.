{
 "cells": [
  {
   "cell_type": "code",
   "execution_count": 1,
   "metadata": {},
   "outputs": [
    {
     "name": "stdout",
     "output_type": "stream",
     "text": [
      "70.69\n"
     ]
    }
   ],
   "source": [
    "#===========================\n",
    "#\n",
    "#        SETTINGS\n",
    "#\n",
    "#===========================\n",
    "#Input your airports' info, it can be a dic, and also can be a list.\n",
    "\n",
    "#departure   \n",
    "\n",
    "#Example 1:\n",
    "\n",
    "# airportList = [{\n",
    "#    \"ITAT\": \"PEK\",\n",
    "#    \"startDate\": \"2017-01-01\",\n",
    "#    \"endDate\": \"2017-12-31\",\n",
    "#    \"delayTime\": 30\n",
    "#},{\n",
    "#    \"ITAT\": \"CDG\",\n",
    "#    \"startDate\": \"2017-01-01\",\n",
    "#    \"endDate\": \"2017-12-31\",\n",
    "#    \"delayTime\": 30\n",
    "#}]\n",
    "\n",
    "#Example 2:\n",
    "\n",
    "# airportList = {\n",
    "#    \"ITAT\": \"PEK\",\n",
    "#    \"startDate\": \"2017-01-01\",\n",
    "#    \"endDate\": \"2017-12-31\",\n",
    "#    \"delayTime\": 30\n",
    "#}\n",
    "\n",
    "airportList = {\n",
    "    \"ITAT\": \"PEK\",\n",
    "    \"startDate\": \"2018-01-01\",\n",
    "    \"endDate\": \"2018-12-31\",\n",
    "    \"delayTime\": 30\n",
    "}\n",
    "#===========================\n",
    "import requests\n",
    "def checkAirportOTP (info):\n",
    "    headinfo = {\n",
    "        \"startTime\": info[\"startDate\"],\n",
    "        \"endTime\": info[\"endDate\"],\n",
    "        \"harborType\": 1,\n",
    "        \"delayTime\": info[\"delayTime\"],\n",
    "        \"lang\":\"\",\n",
    "        \"airportType\": 1,\n",
    "        \"airport\": info[\"ITAT\"]\n",
    "    }\n",
    "    #Three times for TimeOut\n",
    "    i = 0\n",
    "    while i < 3:\n",
    "        try:\n",
    "            result = requests.post(\"https://data.variflight.com/en/analytics/Otpapi/airport\", data=headinfo, timeout=60)\n",
    "            result.raise_for_status()\n",
    "        except requests.RequestException as e:\n",
    "            if i < 3:\n",
    "                i += 1\n",
    "            else:\n",
    "                return e\n",
    "        else:\n",
    "            result = result.json()\n",
    "            punctual = result[\"data\"][\"airport\"][\"punctual\"]\n",
    "            return punctual\n",
    "            break\n",
    "\n",
    "def airportOTP (airports):\n",
    "    if (type(airports) == list):\n",
    "        results = []\n",
    "        for airportCode in airports:\n",
    "            results.append(checkAirportOTP (airportCode))\n",
    "    else:\n",
    "        results = checkAirportOTP (airports)\n",
    "    return results\n",
    "    \n",
    "print(airportOTP(airportList))"
   ]
  },
  {
   "cell_type": "code",
   "execution_count": 59,
   "metadata": {},
   "outputs": [
    {
     "data": {
      "text/plain": [
       "str"
      ]
     },
     "execution_count": 59,
     "metadata": {},
     "output_type": "execute_result"
    }
   ],
   "source": []
  },
  {
   "cell_type": "code",
   "execution_count": null,
   "metadata": {},
   "outputs": [],
   "source": []
  }
 ],
 "metadata": {
  "kernelspec": {
   "display_name": "Python 3",
   "language": "python",
   "name": "python3"
  },
  "language_info": {
   "codemirror_mode": {
    "name": "ipython",
    "version": 3
   },
   "file_extension": ".py",
   "mimetype": "text/x-python",
   "name": "python",
   "nbconvert_exporter": "python",
   "pygments_lexer": "ipython3",
   "version": "3.7.3"
  }
 },
 "nbformat": 4,
 "nbformat_minor": 2
}
